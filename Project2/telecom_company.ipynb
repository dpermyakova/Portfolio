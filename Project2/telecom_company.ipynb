{
 "cells": [
  {
   "cell_type": "markdown",
   "id": "bf6e9424-e684-41eb-a8ea-c996348eb438",
   "metadata": {},
   "source": [
    "# Исследование опроса клиентов телекоммуникационной компании \n",
    "\n",
    "### Описание и цель проекта\n",
    "Перед компанией стояла задача определить текущий уровень потребительской лояльности, NPS, среди клиентов из России. \n",
    "Чтобы определить уровень лояльности, клиентам задавали классический вопрос: «Оцените по шкале от 1 до 10 вероятность того, что вы порекомендуете компанию друзьям и знакомым».\n",
    "Оценки разделили на три группы:\n",
    "* 9-10 баллов — promoters;\n",
    "* 7-8 баллов — passives;\n",
    "* 0-6 баллов — detractors.\n",
    "### Описание данных \n",
    "* user_id - Идентификатор клиента\n",
    "* lt_day - Количество дней «жизни» клиента\n",
    "* is_new - Поле хранит информацию о том, является ли клиент новым\n",
    "* age - Возраст\n",
    "* gender_segment - Пол \n",
    "* os_name - Тип операционной системы\n",
    "* cpe_type_name - Тип устройства\n",
    "* country - Страна проживания\n",
    "* city - Город проживания\n",
    "* age_segment - Возрастной сегмент\n",
    "* traffic_segment - Сегмент по объёму потребляемого трафика\n",
    "* lifetime_segment - Сегмент по количеству дней «жизни»\n",
    "* nps_score - Оценка клиента в NPS-опросе\n",
    "* nps_group - Поле хранит информацию о том, к какой группе относится оценка клиента в опросе\n",
    "### Декомпозиция проекта \n",
    "1. Подключиться к базе данных и сохранить данные в датафрейм\n",
    "2. Собрать витрину данных на основании нескольких таблиц\n",
    "3. Создать дашборд в Tableau, который будет хранить информацию о текущем уровне NPS среди клиентов и покажет, как этот уровень меняется в зависимости от пользовательских признаков\n",
    "4. Сформулировать выводы "
   ]
  },
  {
   "cell_type": "code",
   "execution_count": 2,
   "id": "fc7efa54",
   "metadata": {},
   "outputs": [],
   "source": [
    "import os\n",
    "import pandas as pd\n",
    "import numpy as np\n",
    "\n",
    "from sqlalchemy import create_engine"
   ]
  },
  {
   "cell_type": "code",
   "execution_count": 3,
   "id": "0017f8e7",
   "metadata": {},
   "outputs": [],
   "source": [
    "path_to_db_local = 'telecomm_csi.db'\n",
    "path_to_db_platform = '/datasets/telecomm_csi.db'\n",
    "path_to_db = None\n",
    "\n",
    "if os.path.exists(path_to_db_local):\n",
    "    path_to_db = path_to_db_local\n",
    "elif os.path.exists(path_to_db_platform):\n",
    "    path_to_db = path_to_db_platform\n",
    "else:\n",
    "    raise Exception('Файл с базой данных SQLite не найден!')\n",
    "\n",
    "if path_to_db:\n",
    "    engine = create_engine(f'sqlite:///{path_to_db}', echo=False)"
   ]
  },
  {
   "cell_type": "code",
   "execution_count": 4,
   "id": "de89224a",
   "metadata": {},
   "outputs": [],
   "source": [
    "query = \"\"\"\n",
    "SELECT u.user_id,\n",
    "       u.lt_day,\n",
    "       u.age,\n",
    "       u.gender_segment,\n",
    "       u.os_name,\n",
    "       u.cpe_type_name,\n",
    "       l.country,\n",
    "       l.city,\n",
    "       a.title AS age_segment,\n",
    "       t.title AS traffic_segment,\n",
    "       lt.title AS lifetime_segment,\n",
    "    CASE \n",
    "        WHEN u.lt_day < 365 THEN 'new'\n",
    "        WHEN u.lt_day >= 365 THEN 'old'\n",
    "    END AS is_new,\n",
    "        u.nps_score,\n",
    "    CASE\n",
    "        WHEN nps_score >= 9 and nps_score <= 10 THEN 'promoters'\n",
    "        WHEN nps_score >= 7 and nps_score <=8 THEN 'passives'\n",
    "        WHEN nps_score >= 0 and nps_score <= 6 THEN 'detractors'\n",
    "    END AS nps_group,\n",
    "    CASE\n",
    "        WHEN gender_segment = 1.0 and gender_segment NOT NULL THEN 'Женщина'\n",
    "        WHEN gender_segment = 0.0 and gender_segment NOT NULL THEN 'Мужчина'\n",
    "    END AS gender_segment\n",
    "FROM user AS u\n",
    "LEFT JOIN location AS l ON u.location_id=l.location_id\n",
    "LEFT JOIN age_segment AS a ON u.age_gr_id=a.age_gr_id\n",
    "LEFT JOIN traffic_segment AS t ON u.tr_gr_id=t.tr_gr_id\n",
    "LEFT JOIN lifetime_segment AS lt ON u.lt_gr_id=lt.lt_gr_id\n",
    ";\n",
    "\n",
    "\"\"\""
   ]
  },
  {
   "cell_type": "code",
   "execution_count": 5,
   "id": "79ef6f97",
   "metadata": {},
   "outputs": [
    {
     "data": {
      "text/html": [
       "<div>\n",
       "<style scoped>\n",
       "    .dataframe tbody tr th:only-of-type {\n",
       "        vertical-align: middle;\n",
       "    }\n",
       "\n",
       "    .dataframe tbody tr th {\n",
       "        vertical-align: top;\n",
       "    }\n",
       "\n",
       "    .dataframe thead th {\n",
       "        text-align: right;\n",
       "    }\n",
       "</style>\n",
       "<table border=\"1\" class=\"dataframe\">\n",
       "  <thead>\n",
       "    <tr style=\"text-align: right;\">\n",
       "      <th></th>\n",
       "      <th>user_id</th>\n",
       "      <th>lt_day</th>\n",
       "      <th>age</th>\n",
       "      <th>gender_segment</th>\n",
       "      <th>os_name</th>\n",
       "      <th>cpe_type_name</th>\n",
       "      <th>country</th>\n",
       "      <th>city</th>\n",
       "      <th>age_segment</th>\n",
       "      <th>traffic_segment</th>\n",
       "      <th>lifetime_segment</th>\n",
       "      <th>is_new</th>\n",
       "      <th>nps_score</th>\n",
       "      <th>nps_group</th>\n",
       "      <th>gender_segment</th>\n",
       "    </tr>\n",
       "  </thead>\n",
       "  <tbody>\n",
       "    <tr>\n",
       "      <th>0</th>\n",
       "      <td>A001A2</td>\n",
       "      <td>2320</td>\n",
       "      <td>45.0</td>\n",
       "      <td>1.0</td>\n",
       "      <td>ANDROID</td>\n",
       "      <td>SMARTPHONE</td>\n",
       "      <td>Россия</td>\n",
       "      <td>Уфа</td>\n",
       "      <td>05 45-54</td>\n",
       "      <td>04 1-5</td>\n",
       "      <td>08 36+</td>\n",
       "      <td>old</td>\n",
       "      <td>10</td>\n",
       "      <td>promoters</td>\n",
       "      <td>Женщина</td>\n",
       "    </tr>\n",
       "    <tr>\n",
       "      <th>1</th>\n",
       "      <td>A001WF</td>\n",
       "      <td>2344</td>\n",
       "      <td>53.0</td>\n",
       "      <td>0.0</td>\n",
       "      <td>ANDROID</td>\n",
       "      <td>SMARTPHONE</td>\n",
       "      <td>Россия</td>\n",
       "      <td>Киров</td>\n",
       "      <td>05 45-54</td>\n",
       "      <td>04 1-5</td>\n",
       "      <td>08 36+</td>\n",
       "      <td>old</td>\n",
       "      <td>10</td>\n",
       "      <td>promoters</td>\n",
       "      <td>Мужчина</td>\n",
       "    </tr>\n",
       "    <tr>\n",
       "      <th>2</th>\n",
       "      <td>A003Q7</td>\n",
       "      <td>467</td>\n",
       "      <td>57.0</td>\n",
       "      <td>0.0</td>\n",
       "      <td>ANDROID</td>\n",
       "      <td>SMARTPHONE</td>\n",
       "      <td>Россия</td>\n",
       "      <td>Москва</td>\n",
       "      <td>06 55-64</td>\n",
       "      <td>08 20-25</td>\n",
       "      <td>06 13-24</td>\n",
       "      <td>old</td>\n",
       "      <td>10</td>\n",
       "      <td>promoters</td>\n",
       "      <td>Мужчина</td>\n",
       "    </tr>\n",
       "    <tr>\n",
       "      <th>3</th>\n",
       "      <td>A004TB</td>\n",
       "      <td>4190</td>\n",
       "      <td>44.0</td>\n",
       "      <td>1.0</td>\n",
       "      <td>IOS</td>\n",
       "      <td>SMARTPHONE</td>\n",
       "      <td>Россия</td>\n",
       "      <td>РостовнаДону</td>\n",
       "      <td>04 35-44</td>\n",
       "      <td>03 0.1-1</td>\n",
       "      <td>08 36+</td>\n",
       "      <td>old</td>\n",
       "      <td>10</td>\n",
       "      <td>promoters</td>\n",
       "      <td>Женщина</td>\n",
       "    </tr>\n",
       "    <tr>\n",
       "      <th>4</th>\n",
       "      <td>A004XT</td>\n",
       "      <td>1163</td>\n",
       "      <td>24.0</td>\n",
       "      <td>0.0</td>\n",
       "      <td>ANDROID</td>\n",
       "      <td>SMARTPHONE</td>\n",
       "      <td>Россия</td>\n",
       "      <td>Рязань</td>\n",
       "      <td>02 16-24</td>\n",
       "      <td>05 5-10</td>\n",
       "      <td>08 36+</td>\n",
       "      <td>old</td>\n",
       "      <td>10</td>\n",
       "      <td>promoters</td>\n",
       "      <td>Мужчина</td>\n",
       "    </tr>\n",
       "    <tr>\n",
       "      <th>5</th>\n",
       "      <td>A005O0</td>\n",
       "      <td>5501</td>\n",
       "      <td>42.0</td>\n",
       "      <td>1.0</td>\n",
       "      <td>ANDROID</td>\n",
       "      <td>SMARTPHONE</td>\n",
       "      <td>Россия</td>\n",
       "      <td>Омск</td>\n",
       "      <td>04 35-44</td>\n",
       "      <td>05 5-10</td>\n",
       "      <td>08 36+</td>\n",
       "      <td>old</td>\n",
       "      <td>6</td>\n",
       "      <td>detractors</td>\n",
       "      <td>Женщина</td>\n",
       "    </tr>\n",
       "    <tr>\n",
       "      <th>6</th>\n",
       "      <td>A0061R</td>\n",
       "      <td>1236</td>\n",
       "      <td>45.0</td>\n",
       "      <td>0.0</td>\n",
       "      <td>ANDROID</td>\n",
       "      <td>SMARTPHONE</td>\n",
       "      <td>Россия</td>\n",
       "      <td>Уфа</td>\n",
       "      <td>05 45-54</td>\n",
       "      <td>06 10-15</td>\n",
       "      <td>08 36+</td>\n",
       "      <td>old</td>\n",
       "      <td>10</td>\n",
       "      <td>promoters</td>\n",
       "      <td>Мужчина</td>\n",
       "    </tr>\n",
       "    <tr>\n",
       "      <th>7</th>\n",
       "      <td>A009KS</td>\n",
       "      <td>313</td>\n",
       "      <td>35.0</td>\n",
       "      <td>0.0</td>\n",
       "      <td>ANDROID</td>\n",
       "      <td>SMARTPHONE</td>\n",
       "      <td>Россия</td>\n",
       "      <td>Москва</td>\n",
       "      <td>04 35-44</td>\n",
       "      <td>13 45-50</td>\n",
       "      <td>05 7-12</td>\n",
       "      <td>new</td>\n",
       "      <td>10</td>\n",
       "      <td>promoters</td>\n",
       "      <td>Мужчина</td>\n",
       "    </tr>\n",
       "    <tr>\n",
       "      <th>8</th>\n",
       "      <td>A00AES</td>\n",
       "      <td>3238</td>\n",
       "      <td>36.0</td>\n",
       "      <td>1.0</td>\n",
       "      <td>ANDROID</td>\n",
       "      <td>SMARTPHONE</td>\n",
       "      <td>Россия</td>\n",
       "      <td>СанктПетербург</td>\n",
       "      <td>04 35-44</td>\n",
       "      <td>04 1-5</td>\n",
       "      <td>08 36+</td>\n",
       "      <td>old</td>\n",
       "      <td>10</td>\n",
       "      <td>promoters</td>\n",
       "      <td>Женщина</td>\n",
       "    </tr>\n",
       "    <tr>\n",
       "      <th>9</th>\n",
       "      <td>A00F70</td>\n",
       "      <td>4479</td>\n",
       "      <td>54.0</td>\n",
       "      <td>1.0</td>\n",
       "      <td>ANDROID</td>\n",
       "      <td>SMARTPHONE</td>\n",
       "      <td>Россия</td>\n",
       "      <td>Волгоград</td>\n",
       "      <td>05 45-54</td>\n",
       "      <td>07 15-20</td>\n",
       "      <td>08 36+</td>\n",
       "      <td>old</td>\n",
       "      <td>9</td>\n",
       "      <td>promoters</td>\n",
       "      <td>Женщина</td>\n",
       "    </tr>\n",
       "  </tbody>\n",
       "</table>\n",
       "</div>"
      ],
      "text/plain": [
       "  user_id  lt_day   age gender_segment  os_name cpe_type_name country  \\\n",
       "0  A001A2    2320  45.0            1.0  ANDROID    SMARTPHONE  Россия   \n",
       "1  A001WF    2344  53.0            0.0  ANDROID    SMARTPHONE  Россия   \n",
       "2  A003Q7     467  57.0            0.0  ANDROID    SMARTPHONE  Россия   \n",
       "3  A004TB    4190  44.0            1.0      IOS    SMARTPHONE  Россия   \n",
       "4  A004XT    1163  24.0            0.0  ANDROID    SMARTPHONE  Россия   \n",
       "5  A005O0    5501  42.0            1.0  ANDROID    SMARTPHONE  Россия   \n",
       "6  A0061R    1236  45.0            0.0  ANDROID    SMARTPHONE  Россия   \n",
       "7  A009KS     313  35.0            0.0  ANDROID    SMARTPHONE  Россия   \n",
       "8  A00AES    3238  36.0            1.0  ANDROID    SMARTPHONE  Россия   \n",
       "9  A00F70    4479  54.0            1.0  ANDROID    SMARTPHONE  Россия   \n",
       "\n",
       "             city age_segment traffic_segment lifetime_segment is_new  \\\n",
       "0             Уфа    05 45-54          04 1-5           08 36+    old   \n",
       "1           Киров    05 45-54          04 1-5           08 36+    old   \n",
       "2          Москва    06 55-64        08 20-25         06 13-24    old   \n",
       "3    РостовнаДону    04 35-44        03 0.1-1           08 36+    old   \n",
       "4          Рязань    02 16-24         05 5-10           08 36+    old   \n",
       "5            Омск    04 35-44         05 5-10           08 36+    old   \n",
       "6             Уфа    05 45-54        06 10-15           08 36+    old   \n",
       "7          Москва    04 35-44        13 45-50          05 7-12    new   \n",
       "8  СанктПетербург    04 35-44          04 1-5           08 36+    old   \n",
       "9       Волгоград    05 45-54        07 15-20           08 36+    old   \n",
       "\n",
       "   nps_score   nps_group gender_segment  \n",
       "0         10   promoters        Женщина  \n",
       "1         10   promoters        Мужчина  \n",
       "2         10   promoters        Мужчина  \n",
       "3         10   promoters        Женщина  \n",
       "4         10   promoters        Мужчина  \n",
       "5          6  detractors        Женщина  \n",
       "6         10   promoters        Мужчина  \n",
       "7         10   promoters        Мужчина  \n",
       "8         10   promoters        Женщина  \n",
       "9          9   promoters        Женщина  "
      ]
     },
     "execution_count": 5,
     "metadata": {},
     "output_type": "execute_result"
    }
   ],
   "source": [
    "df = pd.read_sql(query, engine)\n",
    "df.head(10)"
   ]
  },
  {
   "cell_type": "code",
   "execution_count": 6,
   "id": "9db04858",
   "metadata": {},
   "outputs": [],
   "source": [
    "df.to_csv('telecomm_csi_tableau.csv', index=False)"
   ]
  },
  {
   "cell_type": "code",
   "execution_count": 7,
   "id": "f43827f5",
   "metadata": {},
   "outputs": [
    {
     "name": "stdout",
     "output_type": "stream",
     "text": [
      "<class 'pandas.core.frame.DataFrame'>\n",
      "RangeIndex: 502493 entries, 0 to 502492\n",
      "Data columns (total 15 columns):\n",
      " #   Column            Non-Null Count   Dtype  \n",
      "---  ------            --------------   -----  \n",
      " 0   user_id           502493 non-null  object \n",
      " 1   lt_day            502493 non-null  int64  \n",
      " 2   age               501939 non-null  float64\n",
      " 3   gender_segment    501192 non-null  float64\n",
      " 4   os_name           502493 non-null  object \n",
      " 5   cpe_type_name     502493 non-null  object \n",
      " 6   country           502493 non-null  object \n",
      " 7   city              502493 non-null  object \n",
      " 8   age_segment       502493 non-null  object \n",
      " 9   traffic_segment   502493 non-null  object \n",
      " 10  lifetime_segment  502493 non-null  object \n",
      " 11  is_new            502493 non-null  object \n",
      " 12  nps_score         502493 non-null  int64  \n",
      " 13  nps_group         502493 non-null  object \n",
      " 14  gender_segment    501192 non-null  object \n",
      "dtypes: float64(2), int64(2), object(11)\n",
      "memory usage: 57.5+ MB\n"
     ]
    }
   ],
   "source": [
    "df.info()"
   ]
  },
  {
   "cell_type": "code",
   "execution_count": 8,
   "id": "dd1ab77e",
   "metadata": {},
   "outputs": [],
   "source": [
    "df['gender_segment'] = df['gender_segment'].astype(str)"
   ]
  },
  {
   "cell_type": "code",
   "execution_count": 9,
   "id": "fe98fbbe",
   "metadata": {},
   "outputs": [],
   "source": [
    "df.to_csv('telecomm_csi_tableau.csv', index=False)"
   ]
  },
  {
   "cell_type": "markdown",
   "id": "13b59f27",
   "metadata": {},
   "source": [
    "Ссылка на дашборд: https://public.tableau.com/views/Book3_16914392572000/Story1?:language=en-US&publish=yes&:display_count=n&:origin=viz_share_link"
   ]
  }
 ],
 "metadata": {
  "ExecuteTimeLog": [
   {
    "duration": 426,
    "start_time": "2023-07-31T17:51:00.456Z"
   },
   {
    "duration": 165,
    "start_time": "2023-07-31T17:55:14.475Z"
   },
   {
    "duration": 479,
    "start_time": "2023-08-01T10:58:42.691Z"
   },
   {
    "duration": 170,
    "start_time": "2023-08-01T10:58:43.858Z"
   },
   {
    "duration": 3,
    "start_time": "2023-08-01T10:58:44.705Z"
   },
   {
    "duration": 3494,
    "start_time": "2023-08-01T10:58:59.546Z"
   },
   {
    "duration": 3301,
    "start_time": "2023-08-01T11:02:08.496Z"
   },
   {
    "duration": 3,
    "start_time": "2023-08-01T12:09:25.990Z"
   },
   {
    "duration": 8497,
    "start_time": "2023-08-01T12:09:39.367Z"
   },
   {
    "duration": 3,
    "start_time": "2023-08-01T13:34:43.778Z"
   },
   {
    "duration": 684,
    "start_time": "2023-08-01T13:34:47.647Z"
   },
   {
    "duration": 3,
    "start_time": "2023-08-01T13:35:13.721Z"
   },
   {
    "duration": 627,
    "start_time": "2023-08-01T13:35:16.488Z"
   },
   {
    "duration": 3,
    "start_time": "2023-08-01T13:35:46.250Z"
   },
   {
    "duration": 3813,
    "start_time": "2023-08-01T13:35:49.077Z"
   },
   {
    "duration": 3,
    "start_time": "2023-08-01T13:37:36.676Z"
   },
   {
    "duration": 4141,
    "start_time": "2023-08-01T13:37:39.976Z"
   },
   {
    "duration": 3,
    "start_time": "2023-08-01T13:39:19.558Z"
   },
   {
    "duration": 4216,
    "start_time": "2023-08-01T13:39:21.081Z"
   },
   {
    "duration": 4306,
    "start_time": "2023-08-01T13:39:29.757Z"
   },
   {
    "duration": 3,
    "start_time": "2023-08-01T13:41:19.098Z"
   },
   {
    "duration": 4424,
    "start_time": "2023-08-01T13:41:20.850Z"
   },
   {
    "duration": 3,
    "start_time": "2023-08-01T13:42:01.954Z"
   },
   {
    "duration": 4941,
    "start_time": "2023-08-01T13:42:03.611Z"
   },
   {
    "duration": 3,
    "start_time": "2023-08-01T13:42:44.658Z"
   },
   {
    "duration": 5060,
    "start_time": "2023-08-01T13:42:46.550Z"
   },
   {
    "duration": 4192,
    "start_time": "2023-08-01T13:52:46.347Z"
   },
   {
    "duration": 18,
    "start_time": "2023-08-01T13:53:00.308Z"
   },
   {
    "duration": 454,
    "start_time": "2023-08-01T13:53:14.458Z"
   },
   {
    "duration": 67,
    "start_time": "2023-08-01T13:54:59.716Z"
   },
   {
    "duration": 75,
    "start_time": "2023-08-01T13:55:11.647Z"
   },
   {
    "duration": 66,
    "start_time": "2023-08-01T13:56:04.383Z"
   },
   {
    "duration": 4,
    "start_time": "2023-08-01T13:56:17.815Z"
   },
   {
    "duration": 26,
    "start_time": "2023-08-01T13:57:57.585Z"
   },
   {
    "duration": 463,
    "start_time": "2023-08-01T13:58:08.490Z"
   },
   {
    "duration": 14,
    "start_time": "2023-08-01T13:58:15.309Z"
   },
   {
    "duration": 45,
    "start_time": "2023-08-01T13:58:28.246Z"
   },
   {
    "duration": 45,
    "start_time": "2023-08-01T13:58:58.966Z"
   },
   {
    "duration": 14,
    "start_time": "2023-08-01T13:58:59.654Z"
   },
   {
    "duration": 45,
    "start_time": "2023-08-01T14:00:25.441Z"
   },
   {
    "duration": 14,
    "start_time": "2023-08-01T14:00:26.057Z"
   },
   {
    "duration": 85,
    "start_time": "2023-08-01T14:00:54.442Z"
   },
   {
    "duration": 13,
    "start_time": "2023-08-01T14:00:55.356Z"
   },
   {
    "duration": 3,
    "start_time": "2023-08-01T14:03:25.127Z"
   },
   {
    "duration": 2,
    "start_time": "2023-08-01T14:03:55.542Z"
   },
   {
    "duration": 3479,
    "start_time": "2023-08-01T14:05:37.720Z"
   },
   {
    "duration": 60,
    "start_time": "2023-08-01T14:06:00.621Z"
   },
   {
    "duration": 12,
    "start_time": "2023-08-01T14:06:01.180Z"
   },
   {
    "duration": 3,
    "start_time": "2023-08-01T14:06:19.550Z"
   },
   {
    "duration": 46,
    "start_time": "2023-08-01T14:06:34.983Z"
   },
   {
    "duration": 3,
    "start_time": "2023-08-01T14:06:38.058Z"
   },
   {
    "duration": 6,
    "start_time": "2023-08-01T14:06:41.850Z"
   },
   {
    "duration": 496,
    "start_time": "2023-08-01T14:06:54.620Z"
   },
   {
    "duration": 64,
    "start_time": "2023-08-01T14:06:55.700Z"
   },
   {
    "duration": 3,
    "start_time": "2023-08-01T14:06:58.685Z"
   },
   {
    "duration": 5260,
    "start_time": "2023-08-01T14:07:00.758Z"
   },
   {
    "duration": 4163,
    "start_time": "2023-08-01T14:07:15.023Z"
   },
   {
    "duration": 16,
    "start_time": "2023-08-01T14:07:20.087Z"
   },
   {
    "duration": 470,
    "start_time": "2023-08-01T14:07:22.414Z"
   },
   {
    "duration": 64,
    "start_time": "2023-08-01T14:07:25.855Z"
   },
   {
    "duration": 15,
    "start_time": "2023-08-01T14:07:26.795Z"
   },
   {
    "duration": 2,
    "start_time": "2023-08-01T14:11:34.465Z"
   },
   {
    "duration": 4975,
    "start_time": "2023-08-01T14:11:35.742Z"
   },
   {
    "duration": 62,
    "start_time": "2023-08-01T14:13:12.404Z"
   },
   {
    "duration": 2,
    "start_time": "2023-08-01T14:13:16.549Z"
   },
   {
    "duration": 560,
    "start_time": "2023-08-01T14:13:21.954Z"
   },
   {
    "duration": 3,
    "start_time": "2023-08-01T14:13:53.923Z"
   },
   {
    "duration": 545,
    "start_time": "2023-08-01T14:13:59.790Z"
   },
   {
    "duration": 3,
    "start_time": "2023-08-01T14:15:33.154Z"
   },
   {
    "duration": 5002,
    "start_time": "2023-08-01T14:15:36.120Z"
   },
   {
    "duration": 150,
    "start_time": "2023-08-01T14:18:55.705Z"
   },
   {
    "duration": 465,
    "start_time": "2023-08-01T14:19:03.359Z"
   },
   {
    "duration": 124,
    "start_time": "2023-08-01T14:19:14.247Z"
   },
   {
    "duration": 13,
    "start_time": "2023-08-01T14:19:15.266Z"
   },
   {
    "duration": 492,
    "start_time": "2023-08-04T10:53:06.707Z"
   },
   {
    "duration": 116,
    "start_time": "2023-08-04T10:54:00.292Z"
   },
   {
    "duration": 3,
    "start_time": "2023-08-04T10:54:11.846Z"
   },
   {
    "duration": 5268,
    "start_time": "2023-08-04T10:54:14.293Z"
   },
   {
    "duration": 4273,
    "start_time": "2023-08-04T10:56:20.882Z"
   },
   {
    "duration": 16,
    "start_time": "2023-08-04T10:56:36.652Z"
   },
   {
    "duration": 432,
    "start_time": "2023-08-04T10:56:38.314Z"
   },
   {
    "duration": 145,
    "start_time": "2023-08-04T10:56:42.663Z"
   },
   {
    "duration": 461,
    "start_time": "2023-08-04T10:56:44.327Z"
   },
   {
    "duration": 107,
    "start_time": "2023-08-04T10:56:45.858Z"
   },
   {
    "duration": 12,
    "start_time": "2023-08-04T10:56:49.283Z"
   },
   {
    "duration": 3936,
    "start_time": "2023-08-04T11:52:53.322Z"
   },
   {
    "duration": 9,
    "start_time": "2023-08-11T22:45:06.838Z"
   },
   {
    "duration": 51,
    "start_time": "2023-08-11T22:45:09.377Z"
   },
   {
    "duration": 557,
    "start_time": "2023-08-11T22:45:15.183Z"
   },
   {
    "duration": 162,
    "start_time": "2023-08-11T22:45:16.330Z"
   },
   {
    "duration": 3,
    "start_time": "2023-08-11T22:45:18.845Z"
   },
   {
    "duration": 6331,
    "start_time": "2023-08-11T22:45:21.414Z"
   },
   {
    "duration": 3,
    "start_time": "2023-08-11T22:45:58.606Z"
   },
   {
    "duration": 6043,
    "start_time": "2023-08-11T22:46:01.602Z"
   },
   {
    "duration": 3,
    "start_time": "2023-08-11T22:46:29.805Z"
   },
   {
    "duration": 5902,
    "start_time": "2023-08-11T22:46:30.875Z"
   },
   {
    "duration": 4,
    "start_time": "2023-08-11T22:47:36.098Z"
   },
   {
    "duration": 6193,
    "start_time": "2023-08-11T22:47:36.630Z"
   },
   {
    "duration": 3,
    "start_time": "2023-08-11T22:48:19.593Z"
   },
   {
    "duration": 6011,
    "start_time": "2023-08-11T22:48:24.389Z"
   },
   {
    "duration": 2,
    "start_time": "2023-08-11T22:49:23.174Z"
   },
   {
    "duration": 5837,
    "start_time": "2023-08-11T22:49:23.779Z"
   },
   {
    "duration": 4,
    "start_time": "2023-08-11T22:50:37.331Z"
   },
   {
    "duration": 6019,
    "start_time": "2023-08-11T22:50:38.098Z"
   },
   {
    "duration": 3,
    "start_time": "2023-08-11T22:50:53.577Z"
   },
   {
    "duration": 5981,
    "start_time": "2023-08-11T22:50:58.472Z"
   },
   {
    "duration": 4432,
    "start_time": "2023-08-11T23:20:35.494Z"
   },
   {
    "duration": 611,
    "start_time": "2023-08-11T23:20:43.670Z"
   }
  ],
  "kernelspec": {
   "display_name": "Python 3 (ipykernel)",
   "language": "python",
   "name": "python3"
  },
  "language_info": {
   "codemirror_mode": {
    "name": "ipython",
    "version": 3
   },
   "file_extension": ".py",
   "mimetype": "text/x-python",
   "name": "python",
   "nbconvert_exporter": "python",
   "pygments_lexer": "ipython3",
   "version": "3.12.4"
  },
  "toc": {
   "base_numbering": 1,
   "nav_menu": {},
   "number_sections": true,
   "sideBar": true,
   "skip_h1_title": true,
   "title_cell": "Table of Contents",
   "title_sidebar": "Contents",
   "toc_cell": false,
   "toc_position": {},
   "toc_section_display": true,
   "toc_window_display": false
  }
 },
 "nbformat": 4,
 "nbformat_minor": 5
}
